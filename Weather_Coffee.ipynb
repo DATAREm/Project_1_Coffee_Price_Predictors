{
 "cells": [
  {
   "cell_type": "code",
   "execution_count": 1,
   "metadata": {},
   "outputs": [],
   "source": [
    "# Dependencies\n",
    "import csv\n",
    "import matplotlib.pyplot as plt\n",
    "import openweathermapy as owm\n",
    "import pandas as pd\n",
    "import requests\n",
    "from pprint import pprint\n",
    "# import api_key from config file\n",
    "from config import api_key"
   ]
  },
  {
   "cell_type": "code",
   "execution_count": 2,
   "metadata": {},
   "outputs": [],
   "source": [
    "# Save config information\n",
    "url = \"https://api.apixu.com/v1/current.json\"\n",
    "city = \"Sao+Paulo\"\n",
    "\n",
    "# Build query URL\n",
    "# query_url = url + \"?key=\" + api_key + \"&q=\" + city\n",
    "query_url = url + \"?key=\" + api_key + \"&q=\" + city\n",
    "\n",
    "# https://api.apixu.com/v1/current.json?key=5d4b0de035954a7580b144622180307&q=Sao Paulo\n",
    "# print(query_url)"
   ]
  },
  {
   "cell_type": "code",
   "execution_count": 15,
   "metadata": {},
   "outputs": [],
   "source": [
    "cities = [\"Sao Paulo+Brazil\", \"Montecillos+Honduras\", \"Harrar+Ehthiopia\", \"Pereira+Columbia\", \"Iquitos+Peru\"]\n",
    "\n",
    "# set up lists to hold reponse info\n",
    "rainfall = []\n",
    "temp = []\n",
    "\n",
    "# Loop through the list of cities and perform a request for data on each\n",
    "for city in cities:\n",
    "    response = requests.get(query_url + city).json()\n",
    "    rainfall.append(response['current']['precip_in'])\n",
    "    temp.append(response['current']['temp_f'])"
   ]
  },
  {
   "cell_type": "code",
   "execution_count": 16,
   "metadata": {},
   "outputs": [
    {
     "data": {
      "text/html": [
       "<div>\n",
       "<style scoped>\n",
       "    .dataframe tbody tr th:only-of-type {\n",
       "        vertical-align: middle;\n",
       "    }\n",
       "\n",
       "    .dataframe tbody tr th {\n",
       "        vertical-align: top;\n",
       "    }\n",
       "\n",
       "    .dataframe thead th {\n",
       "        text-align: right;\n",
       "    }\n",
       "</style>\n",
       "<table border=\"1\" class=\"dataframe\">\n",
       "  <thead>\n",
       "    <tr style=\"text-align: right;\">\n",
       "      <th></th>\n",
       "      <th>city</th>\n",
       "      <th>Rainfall</th>\n",
       "      <th>temp</th>\n",
       "    </tr>\n",
       "  </thead>\n",
       "  <tbody>\n",
       "    <tr>\n",
       "      <th>0</th>\n",
       "      <td>Sao Paulo+Brazil</td>\n",
       "      <td>0.00</td>\n",
       "      <td>64.4</td>\n",
       "    </tr>\n",
       "    <tr>\n",
       "      <th>1</th>\n",
       "      <td>Montecillos+Honduras</td>\n",
       "      <td>0.02</td>\n",
       "      <td>82.8</td>\n",
       "    </tr>\n",
       "    <tr>\n",
       "      <th>2</th>\n",
       "      <td>Harrar+Ehthiopia</td>\n",
       "      <td>0.02</td>\n",
       "      <td>82.8</td>\n",
       "    </tr>\n",
       "    <tr>\n",
       "      <th>3</th>\n",
       "      <td>Pereira+Columbia</td>\n",
       "      <td>0.00</td>\n",
       "      <td>78.8</td>\n",
       "    </tr>\n",
       "    <tr>\n",
       "      <th>4</th>\n",
       "      <td>Iquitos+Peru</td>\n",
       "      <td>0.02</td>\n",
       "      <td>82.8</td>\n",
       "    </tr>\n",
       "  </tbody>\n",
       "</table>\n",
       "</div>"
      ],
      "text/plain": [
       "                   city  Rainfall  temp\n",
       "0      Sao Paulo+Brazil      0.00  64.4\n",
       "1  Montecillos+Honduras      0.02  82.8\n",
       "2      Harrar+Ehthiopia      0.02  82.8\n",
       "3      Pereira+Columbia      0.00  78.8\n",
       "4          Iquitos+Peru      0.02  82.8"
      ]
     },
     "execution_count": 16,
     "metadata": {},
     "output_type": "execute_result"
    }
   ],
   "source": [
    "weather_dict = {\n",
    "    \"city\": cities,\n",
    "    \"Rainfall\":rainfall,\n",
    "    \"temp\": temp\n",
    "}\n",
    "weather_data = pd.DataFrame(weather_dict)\n",
    "\n",
    "weather_data_new = weather_data[[ \"city\",\"Rainfall\", \"temp\"]]\n",
    "weather_data_new.head()\n",
    "\n",
    "#weather_data.head()"
   ]
  },
  {
   "cell_type": "code",
   "execution_count": 20,
   "metadata": {},
   "outputs": [],
   "source": [
    "weather_data_new.to_csv(\"fileOne.csv\", index=False, header=True)"
   ]
  },
  {
   "cell_type": "code",
   "execution_count": 17,
   "metadata": {},
   "outputs": [
    {
     "name": "stdout",
     "output_type": "stream",
     "text": [
      "{'current': {'cloud': 0,\n",
      "             'condition': {'code': 1030,\n",
      "                           'icon': '//cdn.apixu.com/weather/64x64/night/143.png',\n",
      "                           'text': 'Mist'},\n",
      "             'feelslike_c': 18.0,\n",
      "             'feelslike_f': 64.4,\n",
      "             'humidity': 77,\n",
      "             'is_day': 0,\n",
      "             'last_updated': '2018-07-07 00:00',\n",
      "             'last_updated_epoch': 1530932405,\n",
      "             'precip_in': 0.0,\n",
      "             'precip_mm': 0.0,\n",
      "             'pressure_in': 30.7,\n",
      "             'pressure_mb': 1022.0,\n",
      "             'temp_c': 18.0,\n",
      "             'temp_f': 64.4,\n",
      "             'vis_km': 5.0,\n",
      "             'vis_miles': 3.0,\n",
      "             'wind_degree': 140,\n",
      "             'wind_dir': 'SE',\n",
      "             'wind_kph': 9.0,\n",
      "             'wind_mph': 5.6},\n",
      " 'location': {'country': 'Brazil',\n",
      "              'lat': -23.53,\n",
      "              'localtime': '2018-07-07 0:19',\n",
      "              'localtime_epoch': 1530933575,\n",
      "              'lon': -46.62,\n",
      "              'name': 'Sao Paulo',\n",
      "              'region': 'Sao Paulo',\n",
      "              'tz_id': 'America/Sao_Paulo'}}\n"
     ]
    }
   ],
   "source": [
    "# Get weather data\n",
    "weather_response = requests.get(query_url)\n",
    "weather_json = weather_response.json()\n",
    "\n",
    "# Get the temperature from the response\n",
    "pprint(weather_json)"
   ]
  },
  {
   "cell_type": "code",
   "execution_count": 18,
   "metadata": {},
   "outputs": [
    {
     "data": {
      "image/png": "[encoded data removed]",
      "text/plain": [
       "<matplotlib.figure.Figure at 0x1bf71d828d0>"
      ]
     },
     "metadata": {},
     "output_type": "display_data"
    }
   ],
   "source": [
    "# Build a scatter plot for each data type\n",
    "plt.scatter(weather_data_new[\"Rainfall\"], weather_data_new[\"temp\"], marker=\"o\")\n",
    "\n",
    "# Incorporate the other graph properties\n",
    "plt.title(\"Temperature in Coffee Growing Regions\")\n",
    "plt.ylabel(\"Temperature (Celsius)\")\n",
    "plt.xlabel(\"Rainfall\")\n",
    "plt.grid(True)\n",
    "\n",
    "# Save the figure\n",
    "# plt.savefig(\"TemperatureInWorldCities.png\")\n",
    "\n",
    "# Show plot\n",
    "plt.show()"
   ]
  },
  {
   "cell_type": "code",
   "execution_count": null,
   "metadata": {},
   "outputs": [],
   "source": []
  }
 ],
 "metadata": {
  "kernelspec": {
   "display_name": "Python 3",
   "language": "python",
   "name": "python3"
  },
  "language_info": {
   "codemirror_mode": {
    "name": "ipython",
    "version": 3
   },
   "file_extension": ".py",
   "mimetype": "text/x-python",
   "name": "python",
   "nbconvert_exporter": "python",
   "pygments_lexer": "ipython3",
   "version": "3.6.4"
  }
 },
 "nbformat": 4,
 "nbformat_minor": 2
}
