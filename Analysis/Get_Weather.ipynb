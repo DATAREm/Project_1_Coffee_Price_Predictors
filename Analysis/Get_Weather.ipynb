{
 "cells": [
  {
   "cell_type": "code",
   "execution_count": 49,
   "metadata": {},
   "outputs": [],
   "source": [
    "import requests\n",
    "import json\n",
    "import pandas as pd\n",
    "import numpy as np\n",
    "from datetime import datetime\n",
    "from config import api_key"
   ]
  },
  {
   "cell_type": "code",
   "execution_count": 50,
   "metadata": {},
   "outputs": [],
   "source": [
    "month_end = ['31', '28', '31', '30', '31', '30', '31', '31', '30', '31', '30', '31']\n",
    "year = ['2013', '2014', '2015', '2016', '2017', '2018']\n",
    "month = ['01', '02', '03', '04', '05', '06', '07', '08', '09', '10', '11', '12']\n",
    "end_month_list = [month[i] + '-' + month_end[i] for i in range(0,12)]\n",
    "begin_month_list = [month[i] + '-' + '01' for i in range(0,12)]\n",
    "end_date_list = [i+ '-' + j for i in year for j in end_month_list]\n",
    "begin_date_list = [i+ '-' + j for i in year for j in begin_month_list]\n"
   ]
  },
  {
   "cell_type": "code",
   "execution_count": 56,
   "metadata": {},
   "outputs": [
    {
     "name": "stdout",
     "output_type": "stream",
     "text": [
      "<Response [200]>\n",
      "<Response [200]>\n",
      "<Response [200]>\n",
      "<Response [200]>\n",
      "<Response [200]>\n",
      "<Response [200]>\n",
      "<Response [200]>\n",
      "<Response [200]>\n",
      "<Response [200]>\n",
      "<Response [200]>\n",
      "<Response [200]>\n",
      "<Response [200]>\n",
      "<Response [200]>\n",
      "<Response [200]>\n",
      "<Response [200]>\n",
      "<Response [200]>\n",
      "<Response [200]>\n",
      "<Response [200]>\n",
      "<Response [200]>\n",
      "<Response [200]>\n",
      "<Response [200]>\n",
      "<Response [200]>\n",
      "<Response [200]>\n",
      "<Response [200]>\n",
      "<Response [200]>\n",
      "<Response [200]>\n",
      "<Response [200]>\n",
      "<Response [429]>\n"
     ]
    },
    {
     "ename": "KeyError",
     "evalue": "'weather'",
     "output_type": "error",
     "traceback": [
      "\u001b[0;31m---------------------------------------------------------------------------\u001b[0m",
      "\u001b[0;31mKeyError\u001b[0m                                  Traceback (most recent call last)",
      "\u001b[0;32m<ipython-input-56-d3d90f5e2ea4>\u001b[0m in \u001b[0;36m<module>\u001b[0;34m()\u001b[0m\n\u001b[1;32m     24\u001b[0m     \u001b[0;31m#print(Weather_Bulk)\u001b[0m\u001b[0;34m\u001b[0m\u001b[0;34m\u001b[0m\u001b[0m\n\u001b[1;32m     25\u001b[0m \u001b[0;34m\u001b[0m\u001b[0m\n\u001b[0;32m---> 26\u001b[0;31m     \u001b[0;32mfor\u001b[0m \u001b[0mweather\u001b[0m \u001b[0;32min\u001b[0m \u001b[0mWeather_Bulk\u001b[0m\u001b[0;34m[\u001b[0m\u001b[0;34m'data'\u001b[0m\u001b[0;34m]\u001b[0m\u001b[0;34m[\u001b[0m\u001b[0;34m'weather'\u001b[0m\u001b[0;34m]\u001b[0m\u001b[0;34m:\u001b[0m\u001b[0;34m\u001b[0m\u001b[0m\n\u001b[0m\u001b[1;32m     27\u001b[0m         \u001b[0mdate_w\u001b[0m\u001b[0;34m.\u001b[0m\u001b[0mappend\u001b[0m\u001b[0;34m(\u001b[0m\u001b[0mweather\u001b[0m\u001b[0;34m[\u001b[0m\u001b[0;34m'date'\u001b[0m\u001b[0;34m]\u001b[0m\u001b[0;34m)\u001b[0m\u001b[0;34m\u001b[0m\u001b[0m\n\u001b[1;32m     28\u001b[0m         \u001b[0mmaxtempC\u001b[0m\u001b[0;34m.\u001b[0m\u001b[0mappend\u001b[0m\u001b[0;34m(\u001b[0m\u001b[0mweather\u001b[0m\u001b[0;34m[\u001b[0m\u001b[0;34m'maxtempC'\u001b[0m\u001b[0;34m]\u001b[0m\u001b[0;34m)\u001b[0m\u001b[0;34m\u001b[0m\u001b[0m\n",
      "\u001b[0;31mKeyError\u001b[0m: 'weather'"
     ]
    }
   ],
   "source": [
    "date_w = []\n",
    "maxtempC = []\n",
    "mintempC = []\n",
    "precip_total = []\n",
    "humidity_avg = []\n",
    "for num in range(len(begin_date_list[:-6])):\n",
    "    city = 'Awasa,ethiopia'\n",
    "    date = begin_date_list[num]\n",
    "    end_date = end_date_list[num]\n",
    "\n",
    "\n",
    "    Base_Url = \"http://api.worldweatheronline.com/premium/v1/past-weather.ashx\"\n",
    "    params = {\n",
    "    'key': api_key,\n",
    "    'q': city,\n",
    "    'format': 'json',\n",
    "    'date': date,\n",
    "    'enddate': end_date\n",
    "    }\n",
    "\n",
    "    Response = requests.get(Base_Url, params=params)\n",
    "    print(Response)\n",
    "    Weather_Bulk = Response.json()\n",
    "    #print(Weather_Bulk)\n",
    "\n",
    "    for weather in Weather_Bulk['data']['weather']:\n",
    "        date_w.append(weather['date'])\n",
    "        maxtempC.append(weather['maxtempC'])\n",
    "        mintempC.append(weather['mintempC'])\n",
    "        precip = 0\n",
    "        humidity = 0\n",
    "        i = 0\n",
    "        for w in weather['hourly']:\n",
    "            i += 1\n",
    "            precip += float(w['precipMM'])\n",
    "            humidity += float(w['humidity'])\n",
    "        precip_total.append(precip)\n",
    "        humidity_avg.append(humidity/i)"
   ]
  },
  {
   "cell_type": "code",
   "execution_count": 57,
   "metadata": {},
   "outputs": [
    {
     "name": "stdout",
     "output_type": "stream",
     "text": [
      "820\n",
      "820\n",
      "{'data': {'error': [{'msg': 'API key has reached calls per day allowed limit.'}]}}\n"
     ]
    }
   ],
   "source": [
    "print(len(date_w))\n",
    "print(len(maxtempC))\n",
    "\n",
    "print(Weather_Bulk)"
   ]
  },
  {
   "cell_type": "code",
   "execution_count": 53,
   "metadata": {},
   "outputs": [
    {
     "data": {
      "text/html": [
       "<div>\n",
       "<style scoped>\n",
       "    .dataframe tbody tr th:only-of-type {\n",
       "        vertical-align: middle;\n",
       "    }\n",
       "\n",
       "    .dataframe tbody tr th {\n",
       "        vertical-align: top;\n",
       "    }\n",
       "\n",
       "    .dataframe thead th {\n",
       "        text-align: right;\n",
       "    }\n",
       "</style>\n",
       "<table border=\"1\" class=\"dataframe\">\n",
       "  <thead>\n",
       "    <tr style=\"text-align: right;\">\n",
       "      <th></th>\n",
       "      <th>Date</th>\n",
       "      <th>Max Temperature C</th>\n",
       "      <th>Min Temperature C</th>\n",
       "      <th>Precipitation Total</th>\n",
       "      <th>Humidity Avg</th>\n",
       "    </tr>\n",
       "  </thead>\n",
       "  <tbody>\n",
       "    <tr>\n",
       "      <th>0</th>\n",
       "      <td>2013-01-01</td>\n",
       "      <td>26</td>\n",
       "      <td>22</td>\n",
       "      <td>0.8</td>\n",
       "      <td>82.250</td>\n",
       "    </tr>\n",
       "    <tr>\n",
       "      <th>1</th>\n",
       "      <td>2013-01-02</td>\n",
       "      <td>27</td>\n",
       "      <td>23</td>\n",
       "      <td>0.3</td>\n",
       "      <td>81.125</td>\n",
       "    </tr>\n",
       "    <tr>\n",
       "      <th>2</th>\n",
       "      <td>2013-01-03</td>\n",
       "      <td>26</td>\n",
       "      <td>22</td>\n",
       "      <td>2.9</td>\n",
       "      <td>86.625</td>\n",
       "    </tr>\n",
       "    <tr>\n",
       "      <th>3</th>\n",
       "      <td>2013-01-04</td>\n",
       "      <td>27</td>\n",
       "      <td>23</td>\n",
       "      <td>1.7</td>\n",
       "      <td>81.875</td>\n",
       "    </tr>\n",
       "    <tr>\n",
       "      <th>4</th>\n",
       "      <td>2013-01-05</td>\n",
       "      <td>26</td>\n",
       "      <td>23</td>\n",
       "      <td>12.1</td>\n",
       "      <td>84.500</td>\n",
       "    </tr>\n",
       "  </tbody>\n",
       "</table>\n",
       "</div>"
      ],
      "text/plain": [
       "         Date Max Temperature C Min Temperature C  Precipitation Total  \\\n",
       "0  2013-01-01                26                22                  0.8   \n",
       "1  2013-01-02                27                23                  0.3   \n",
       "2  2013-01-03                26                22                  2.9   \n",
       "3  2013-01-04                27                23                  1.7   \n",
       "4  2013-01-05                26                23                 12.1   \n",
       "\n",
       "   Humidity Avg  \n",
       "0        82.250  \n",
       "1        81.125  \n",
       "2        86.625  \n",
       "3        81.875  \n",
       "4        84.500  "
      ]
     },
     "execution_count": 53,
     "metadata": {},
     "output_type": "execute_result"
    }
   ],
   "source": [
    "weather_dict = {'Date': date_w, 'Max Temperature C': maxtempC, 'Min Temperature C': mintempC, 'Precipitation Total': precip_total, 'Humidity Avg': humidity_avg}\n",
    "weather_DF = pd.DataFrame(weather_dict)\n",
    "weather_DF.head()"
   ]
  },
  {
   "cell_type": "code",
   "execution_count": 54,
   "metadata": {},
   "outputs": [],
   "source": [
    "path = '../Resources/Data/Weather_data/weather_data_' + city + '_2013_2018.csv'\n",
    "weather_DF.to_csv(path)"
   ]
  },
  {
   "cell_type": "code",
   "execution_count": null,
   "metadata": {},
   "outputs": [],
   "source": []
  }
 ],
 "metadata": {
  "kernelspec": {
   "display_name": "Python 3",
   "language": "python",
   "name": "python3"
  },
  "language_info": {
   "codemirror_mode": {
    "name": "ipython",
    "version": 3
   },
   "file_extension": ".py",
   "mimetype": "text/x-python",
   "name": "python",
   "nbconvert_exporter": "python",
   "pygments_lexer": "ipython3",
   "version": "3.6.4"
  }
 },
 "nbformat": 4,
 "nbformat_minor": 2
}
